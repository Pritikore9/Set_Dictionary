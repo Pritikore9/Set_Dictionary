{
 "cells": [
  {
   "cell_type": "code",
   "execution_count": 1,
   "id": "a6f1ffa6",
   "metadata": {},
   "outputs": [
    {
     "name": "stdout",
     "output_type": "stream",
     "text": [
      "set()\n",
      "<class 'set'>\n"
     ]
    }
   ],
   "source": [
    "# Defining an enpty set\n",
    "set_v=set()\n",
    "print(set_v)\n",
    "print(type(set_v))"
   ]
  },
  {
   "cell_type": "code",
   "execution_count": 2,
   "id": "8bf41744",
   "metadata": {},
   "outputs": [
    {
     "name": "stdout",
     "output_type": "stream",
     "text": [
      "{'python', 'Django', 'avengers'}\n",
      "<class 'set'>\n"
     ]
    }
   ],
   "source": [
    "sets={\"avengers\",\"python\",\"Django\"}\n",
    "print(sets)\n",
    "print(type(sets))"
   ]
  },
  {
   "cell_type": "code",
   "execution_count": 3,
   "id": "ce2f6133",
   "metadata": {},
   "outputs": [
    {
     "name": "stdout",
     "output_type": "stream",
     "text": [
      "{'python', 'ng', 'Django', 'avengers'}\n"
     ]
    }
   ],
   "source": [
    "sets.add(\"ng\")\n",
    "print(sets)"
   ]
  },
  {
   "cell_type": "code",
   "execution_count": 4,
   "id": "01cadf24",
   "metadata": {},
   "outputs": [
    {
     "ename": "TypeError",
     "evalue": "'set' object is not subscriptable",
     "output_type": "error",
     "traceback": [
      "\u001b[1;31m---------------------------------------------------------------------------\u001b[0m",
      "\u001b[1;31mTypeError\u001b[0m                                 Traceback (most recent call last)",
      "Input \u001b[1;32mIn [4]\u001b[0m, in \u001b[0;36m<cell line: 2>\u001b[1;34m()\u001b[0m\n\u001b[0;32m      1\u001b[0m \u001b[38;5;66;03m# set does not support indexing\u001b[39;00m\n\u001b[1;32m----> 2\u001b[0m \u001b[43msets\u001b[49m\u001b[43m[\u001b[49m\u001b[38;5;241;43m1\u001b[39;49m\u001b[43m]\u001b[49m\n\u001b[0;32m      3\u001b[0m \u001b[38;5;28mset\u001b[39m[\u001b[38;5;124m\"\u001b[39m\u001b[38;5;124mng\u001b[39m\u001b[38;5;124m\"\u001b[39m]\n",
      "\u001b[1;31mTypeError\u001b[0m: 'set' object is not subscriptable"
     ]
    }
   ],
   "source": [
    "# set does not support indexing\n",
    "sets[1]\n",
    "set[\"ng\"]"
   ]
  },
  {
   "cell_type": "code",
   "execution_count": 5,
   "id": "bba1d754",
   "metadata": {},
   "outputs": [],
   "source": [
    "sets.add(\"hulk\")"
   ]
  },
  {
   "cell_type": "code",
   "execution_count": 6,
   "id": "5fd64407",
   "metadata": {
    "scrolled": true
   },
   "outputs": [],
   "source": [
    "set1={\"Django\",\"avengers\",\"hulk\",\"python\"}"
   ]
  },
  {
   "cell_type": "code",
   "execution_count": 7,
   "id": "a85590d5",
   "metadata": {},
   "outputs": [],
   "source": [
    "set1\n",
    "set2={\"Django\",\"avengers\",\"hulk\",\"python\",\"linux\"}"
   ]
  },
  {
   "cell_type": "code",
   "execution_count": 8,
   "id": "9b0f3bf4",
   "metadata": {},
   "outputs": [],
   "source": [
    "set2.intersection_update(set1)"
   ]
  },
  {
   "cell_type": "code",
   "execution_count": 9,
   "id": "dcff927a",
   "metadata": {},
   "outputs": [
    {
     "data": {
      "text/plain": [
       "{'Django', 'avengers', 'hulk', 'python'}"
      ]
     },
     "execution_count": 9,
     "metadata": {},
     "output_type": "execute_result"
    }
   ],
   "source": [
    "set2"
   ]
  },
  {
   "cell_type": "code",
   "execution_count": 10,
   "id": "a1304822",
   "metadata": {},
   "outputs": [
    {
     "data": {
      "text/plain": [
       "set()"
      ]
     },
     "execution_count": 10,
     "metadata": {},
     "output_type": "execute_result"
    }
   ],
   "source": [
    "set2.difference(set1)"
   ]
  },
  {
   "cell_type": "code",
   "execution_count": 11,
   "id": "1f99b47a",
   "metadata": {},
   "outputs": [
    {
     "name": "stdout",
     "output_type": "stream",
     "text": [
      "set()\n"
     ]
    }
   ],
   "source": [
    "set2.difference_update(set1)\n",
    "print(set2)"
   ]
  },
  {
   "cell_type": "markdown",
   "id": "c3e4ef8e",
   "metadata": {},
   "source": [
    "A dictionary is collection which is unordered, changeable and indexed. In python dictionaries are written with curly brackets, and they have keys and values"
   ]
  },
  {
   "cell_type": "code",
   "execution_count": 12,
   "id": "e15025f4",
   "metadata": {},
   "outputs": [],
   "source": [
    "dict={}"
   ]
  },
  {
   "cell_type": "code",
   "execution_count": 13,
   "id": "6d457b25",
   "metadata": {},
   "outputs": [
    {
     "data": {
      "text/plain": [
       "dict"
      ]
     },
     "execution_count": 13,
     "metadata": {},
     "output_type": "execute_result"
    }
   ],
   "source": [
    "type(dict)"
   ]
  },
  {
   "cell_type": "code",
   "execution_count": 14,
   "id": "ad1b5a1f",
   "metadata": {},
   "outputs": [],
   "source": [
    "dict={1,2,4,5,6}"
   ]
  },
  {
   "cell_type": "code",
   "execution_count": 15,
   "id": "34935eb5",
   "metadata": {},
   "outputs": [
    {
     "data": {
      "text/plain": [
       "set"
      ]
     },
     "execution_count": 15,
     "metadata": {},
     "output_type": "execute_result"
    }
   ],
   "source": [
    "type(dict)"
   ]
  },
  {
   "cell_type": "code",
   "execution_count": 16,
   "id": "59d76e21",
   "metadata": {},
   "outputs": [],
   "source": [
    "dict={\"key1\":\"value1\",\n",
    "     \"key2\":\"value2\"}"
   ]
  },
  {
   "cell_type": "code",
   "execution_count": 17,
   "id": "e0ad001e",
   "metadata": {},
   "outputs": [
    {
     "data": {
      "text/plain": [
       "dict"
      ]
     },
     "execution_count": 17,
     "metadata": {},
     "output_type": "execute_result"
    }
   ],
   "source": [
    "type(dict)"
   ]
  },
  {
   "cell_type": "code",
   "execution_count": 18,
   "id": "45e52c1f",
   "metadata": {},
   "outputs": [
    {
     "data": {
      "text/plain": [
       "'value1'"
      ]
     },
     "execution_count": 18,
     "metadata": {},
     "output_type": "execute_result"
    }
   ],
   "source": [
    "# Access the item values based on keys\n",
    "dict['key1']"
   ]
  },
  {
   "cell_type": "code",
   "execution_count": 20,
   "id": "3db7f762",
   "metadata": {},
   "outputs": [
    {
     "name": "stdout",
     "output_type": "stream",
     "text": [
      "key1\n",
      "key2\n"
     ]
    }
   ],
   "source": [
    "# we can even loop through the dictionaries keys\n",
    "\n",
    "for x in dict:\n",
    "    print(x)"
   ]
  },
  {
   "cell_type": "code",
   "execution_count": 21,
   "id": "5714e395",
   "metadata": {},
   "outputs": [
    {
     "name": "stdout",
     "output_type": "stream",
     "text": [
      "value1\n",
      "value2\n"
     ]
    }
   ],
   "source": [
    "for x in dict.values():\n",
    "    print(x)"
   ]
  },
  {
   "cell_type": "code",
   "execution_count": 23,
   "id": "74448c64",
   "metadata": {},
   "outputs": [
    {
     "name": "stdout",
     "output_type": "stream",
     "text": [
      "('key1', 'value1')\n",
      "('key2', 'value2')\n"
     ]
    }
   ],
   "source": [
    "# we cam also check both keys and values\n",
    "\n",
    "for x in dict.items():\n",
    "    print(x)"
   ]
  },
  {
   "cell_type": "code",
   "execution_count": 29,
   "id": "19fd5a9e",
   "metadata": {},
   "outputs": [],
   "source": [
    "# adding item in dictionaries\n",
    "\n",
    "dict['key3']='value3'"
   ]
  },
  {
   "cell_type": "code",
   "execution_count": 30,
   "id": "9a066be2",
   "metadata": {},
   "outputs": [
    {
     "name": "stdout",
     "output_type": "stream",
     "text": [
      "{'key1': 'value1', 'key2': 'value2', 'key3': 'value3'}\n"
     ]
    }
   ],
   "source": [
    "print(dict)"
   ]
  },
  {
   "cell_type": "code",
   "execution_count": 31,
   "id": "059613a0",
   "metadata": {},
   "outputs": [],
   "source": [
    "# update the key and value\n",
    "\n",
    "dict['key1']='value4'"
   ]
  },
  {
   "cell_type": "code",
   "execution_count": 32,
   "id": "866d59b7",
   "metadata": {},
   "outputs": [
    {
     "data": {
      "text/plain": [
       "{'key1': 'value4', 'key2': 'value2', 'key3': 'value3'}"
      ]
     },
     "execution_count": 32,
     "metadata": {},
     "output_type": "execute_result"
    }
   ],
   "source": [
    "dict"
   ]
  },
  {
   "cell_type": "markdown",
   "id": "26aeb0a0",
   "metadata": {},
   "source": [
    "# Nested Dictionary"
   ]
  },
  {
   "cell_type": "code",
   "execution_count": 33,
   "id": "950c59c2",
   "metadata": {},
   "outputs": [],
   "source": [
    "model={\"mercedes\":1999}\n",
    "model1={\"jaguar\":2002}\n",
    "model2={\"Ambasador\":2006}\n",
    "\n",
    "car={\"car1\":model,\"car2\":model1,\"car3\":model2}"
   ]
  },
  {
   "cell_type": "code",
   "execution_count": 34,
   "id": "6f3961f3",
   "metadata": {},
   "outputs": [
    {
     "name": "stdout",
     "output_type": "stream",
     "text": [
      "{'car1': {'mercedes': 1999}, 'car2': {'jaguar': 2002}, 'car3': {'Ambasador': 2006}}\n"
     ]
    }
   ],
   "source": [
    "print(car)"
   ]
  },
  {
   "cell_type": "code",
   "execution_count": 35,
   "id": "518c3c25",
   "metadata": {},
   "outputs": [
    {
     "name": "stdout",
     "output_type": "stream",
     "text": [
      "{'mercedes': 1999}\n"
     ]
    }
   ],
   "source": [
    "# accessing the items in the dictionary\n",
    "\n",
    "\n",
    "print(car[\"car1\"])"
   ]
  },
  {
   "cell_type": "code",
   "execution_count": 36,
   "id": "71043e09",
   "metadata": {},
   "outputs": [
    {
     "name": "stdout",
     "output_type": "stream",
     "text": [
      "1999\n"
     ]
    }
   ],
   "source": [
    "print(car[\"car1\"][\"mercedes\"])"
   ]
  },
  {
   "cell_type": "markdown",
   "id": "4db51cef",
   "metadata": {},
   "source": [
    "# Tuples"
   ]
  },
  {
   "cell_type": "code",
   "execution_count": 37,
   "id": "057c70ef",
   "metadata": {},
   "outputs": [],
   "source": [
    "# create the empty tuples\n",
    "\n",
    "\n",
    "tup=tuple()"
   ]
  },
  {
   "cell_type": "code",
   "execution_count": 38,
   "id": "199b4bc4",
   "metadata": {},
   "outputs": [
    {
     "data": {
      "text/plain": [
       "tuple"
      ]
     },
     "execution_count": 38,
     "metadata": {},
     "output_type": "execute_result"
    }
   ],
   "source": [
    "type(tup)"
   ]
  },
  {
   "cell_type": "code",
   "execution_count": 39,
   "id": "daffbc3e",
   "metadata": {},
   "outputs": [],
   "source": [
    "tup1=(\"priti\",1,2,\"42jjh\")"
   ]
  },
  {
   "cell_type": "code",
   "execution_count": 40,
   "id": "38ccad1b",
   "metadata": {},
   "outputs": [
    {
     "data": {
      "text/plain": [
       "('priti', 1, 2, '42jjh')"
      ]
     },
     "execution_count": 40,
     "metadata": {},
     "output_type": "execute_result"
    }
   ],
   "source": [
    "tup1"
   ]
  },
  {
   "cell_type": "code",
   "execution_count": 41,
   "id": "67776e75",
   "metadata": {},
   "outputs": [
    {
     "data": {
      "text/plain": [
       "('hello ', 'priti')"
      ]
     },
     "execution_count": 41,
     "metadata": {},
     "output_type": "execute_result"
    }
   ],
   "source": [
    "tup1=(\"hello \",\"priti\")\n",
    "tup1"
   ]
  },
  {
   "cell_type": "code",
   "execution_count": 42,
   "id": "a561e8a6",
   "metadata": {},
   "outputs": [
    {
     "data": {
      "text/plain": [
       "'priti'"
      ]
     },
     "execution_count": 42,
     "metadata": {},
     "output_type": "execute_result"
    }
   ],
   "source": [
    "tup1[1]"
   ]
  },
  {
   "cell_type": "code",
   "execution_count": null,
   "id": "f984c6cc",
   "metadata": {},
   "outputs": [],
   "source": []
  },
  {
   "cell_type": "code",
   "execution_count": null,
   "id": "c96b2562",
   "metadata": {},
   "outputs": [],
   "source": []
  }
 ],
 "metadata": {
  "kernelspec": {
   "display_name": "Python 3 (ipykernel)",
   "language": "python",
   "name": "python3"
  },
  "language_info": {
   "codemirror_mode": {
    "name": "ipython",
    "version": 3
   },
   "file_extension": ".py",
   "mimetype": "text/x-python",
   "name": "python",
   "nbconvert_exporter": "python",
   "pygments_lexer": "ipython3",
   "version": "3.9.12"
  }
 },
 "nbformat": 4,
 "nbformat_minor": 5
}
